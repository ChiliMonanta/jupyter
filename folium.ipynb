{
 "cells": [
  {
   "cell_type": "code",
   "execution_count": null,
   "metadata": {
    "collapsed": true
   },
   "outputs": [],
   "source": [
    "# http://geojson.io/\n",
    "# https://github.com/python-visualization/folium/tree/master/examples\n",
    "# https://github.com/python-visualization/folium/blob/master/examples/Colormaps.ipynb\n",
    "# http://leafletjs.com/reference.html#path-options\n",
    "# http://williams.best.vwh.net/avform.htm"
   ]
  },
  {
   "cell_type": "code",
   "execution_count": null,
   "metadata": {
    "collapsed": false,
    "scrolled": true
   },
   "outputs": [],
   "source": [
    "import folium\n",
    "m = folium.Map(location=[ 56.7, 12.9], zoom_start=6)\n",
    "folium.GeoJson(open('geodata.json'),\n",
    "    style_function=lambda feature: {\n",
    "        'color' : feature['properties']['stroke'],\n",
    "        'weight' : feature['properties']['stroke-width'],\n",
    "        'opacity': 0.8,\n",
    "        \"label\": \"Coors Field\",\n",
    "        \"show_on_map\": True,\n",
    "        'dashArray' : '5, 5'\n",
    "        }).add_to(m)\n",
    "#m.save(\"map.html\")\n",
    "m"
   ]
  },
  {
   "cell_type": "code",
   "execution_count": null,
   "metadata": {
    "collapsed": false,
    "scrolled": true
   },
   "outputs": [],
   "source": [
    "import folium\n",
    "from folium import PolyLine\n",
    "\n",
    "coordinates = [\n",
    "    [  42.3581    ,  -71.0636    ],\n",
    "    [  42.82995815,  -74.78991444],\n",
    "    [  43.17929819,  -78.56603306],\n",
    "    [  43.40320216,  -82.37774519],\n",
    "    [  43.49975489,  -86.20965845],\n",
    "    [  43.46811941,  -90.04569087],\n",
    "    [  43.30857071,  -93.86961818],\n",
    "    [  43.02248456,  -97.66563267],\n",
    "    [  42.61228259, -101.41886832],\n",
    "    [  42.08133868, -105.11585198],\n",
    "    [  41.4338549 , -108.74485069],\n",
    "    [  40.67471747, -112.29609954],\n",
    "    [  39.8093434 , -115.76190821],\n",
    "    [  38.84352776, -119.13665678],\n",
    "    [  37.7833    , -122.4167    ]]\n",
    "\n",
    "m = folium.Map(location=[41.9, -97.3], zoom_start=4)\n",
    "polyLine = PolyLine(locations=coordinates, color='#FF0000', weight=5)\n",
    "m.add_children(polyLine)\n",
    "m"
   ]
  },
  {
   "cell_type": "code",
   "execution_count": null,
   "metadata": {
    "collapsed": true
   },
   "outputs": [],
   "source": []
  }
 ],
 "metadata": {
  "kernelspec": {
   "display_name": "Python 2",
   "language": "python",
   "name": "python2"
  },
  "language_info": {
   "codemirror_mode": {
    "name": "ipython",
    "version": 2
   },
   "file_extension": ".py",
   "mimetype": "text/x-python",
   "name": "python",
   "nbconvert_exporter": "python",
   "pygments_lexer": "ipython2",
   "version": "2.7.6"
  }
 },
 "nbformat": 4,
 "nbformat_minor": 0
}
